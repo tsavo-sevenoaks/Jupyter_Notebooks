{
 "cells": [
  {
   "cell_type": "markdown",
   "metadata": {},
   "source": [
    "# iPython Notebook - fun with pandas.\n",
    " it takes a long time to load - be patient!"
   ]
  },
  {
   "cell_type": "code",
   "execution_count": 1,
   "metadata": {
    "collapsed": false
   },
   "outputs": [
    {
     "name": "stdout",
     "output_type": "stream",
     "text": [
      "hello world - BRUCE\n",
      "Date & Time :  2016-08-21  16:57:14\n"
     ]
    }
   ],
   "source": [
    "a = \"hello world - BRUCE\"\n",
    "print(a)\n",
    "import time\n",
    "\n",
    "#print(\"date and time when this Notebook was run on http://localhost:8888/notebooks/ipython_101_notebook-Copy1.ipynb\")\n",
    "print(\"Date & Time : \",time.strftime(\"%Y-%m-%d  %H:%M:%S\"))"
   ]
  },
  {
   "cell_type": "code",
   "execution_count": 2,
   "metadata": {
    "collapsed": true
   },
   "outputs": [],
   "source": [
    "import pandas as pd"
   ]
  },
  {
   "cell_type": "code",
   "execution_count": 3,
   "metadata": {
    "collapsed": true
   },
   "outputs": [],
   "source": [
    "ufo=pd.read_csv('http://bit.ly/uforeports')"
   ]
  },
  {
   "cell_type": "code",
   "execution_count": 4,
   "metadata": {
    "collapsed": false
   },
   "outputs": [
    {
     "data": {
      "text/html": [
       "<div>\n",
       "<table border=\"1\" class=\"dataframe\">\n",
       "  <thead>\n",
       "    <tr style=\"text-align: right;\">\n",
       "      <th></th>\n",
       "      <th>City</th>\n",
       "      <th>Colors Reported</th>\n",
       "      <th>Shape Reported</th>\n",
       "      <th>State</th>\n",
       "      <th>Time</th>\n",
       "    </tr>\n",
       "  </thead>\n",
       "  <tbody>\n",
       "    <tr>\n",
       "      <th>0</th>\n",
       "      <td>Ithaca</td>\n",
       "      <td>NaN</td>\n",
       "      <td>TRIANGLE</td>\n",
       "      <td>NY</td>\n",
       "      <td>6/1/1930 22:00</td>\n",
       "    </tr>\n",
       "    <tr>\n",
       "      <th>1</th>\n",
       "      <td>Willingboro</td>\n",
       "      <td>NaN</td>\n",
       "      <td>OTHER</td>\n",
       "      <td>NJ</td>\n",
       "      <td>6/30/1930 20:00</td>\n",
       "    </tr>\n",
       "    <tr>\n",
       "      <th>2</th>\n",
       "      <td>Holyoke</td>\n",
       "      <td>NaN</td>\n",
       "      <td>OVAL</td>\n",
       "      <td>CO</td>\n",
       "      <td>2/15/1931 14:00</td>\n",
       "    </tr>\n",
       "    <tr>\n",
       "      <th>3</th>\n",
       "      <td>Abilene</td>\n",
       "      <td>NaN</td>\n",
       "      <td>DISK</td>\n",
       "      <td>KS</td>\n",
       "      <td>6/1/1931 13:00</td>\n",
       "    </tr>\n",
       "    <tr>\n",
       "      <th>4</th>\n",
       "      <td>New York Worlds Fair</td>\n",
       "      <td>NaN</td>\n",
       "      <td>LIGHT</td>\n",
       "      <td>NY</td>\n",
       "      <td>4/18/1933 19:00</td>\n",
       "    </tr>\n",
       "  </tbody>\n",
       "</table>\n",
       "</div>"
      ],
      "text/plain": [
       "                   City Colors Reported Shape Reported State             Time\n",
       "0                Ithaca             NaN       TRIANGLE    NY   6/1/1930 22:00\n",
       "1           Willingboro             NaN          OTHER    NJ  6/30/1930 20:00\n",
       "2               Holyoke             NaN           OVAL    CO  2/15/1931 14:00\n",
       "3               Abilene             NaN           DISK    KS   6/1/1931 13:00\n",
       "4  New York Worlds Fair             NaN          LIGHT    NY  4/18/1933 19:00"
      ]
     },
     "execution_count": 4,
     "metadata": {},
     "output_type": "execute_result"
    }
   ],
   "source": [
    "ufo.head()"
   ]
  },
  {
   "cell_type": "code",
   "execution_count": 5,
   "metadata": {
    "collapsed": false
   },
   "outputs": [
    {
     "data": {
      "text/plain": [
       "(18241, 5)"
      ]
     },
     "execution_count": 5,
     "metadata": {},
     "output_type": "execute_result"
    }
   ],
   "source": [
    "ufo.shape"
   ]
  },
  {
   "cell_type": "code",
   "execution_count": 6,
   "metadata": {
    "collapsed": false
   },
   "outputs": [
    {
     "data": {
      "text/plain": [
       "RangeIndex(start=0, stop=18241, step=1)"
      ]
     },
     "execution_count": 6,
     "metadata": {},
     "output_type": "execute_result"
    }
   ],
   "source": [
    "ufo.index"
   ]
  },
  {
   "cell_type": "code",
   "execution_count": 7,
   "metadata": {
    "collapsed": false
   },
   "outputs": [
    {
     "data": {
      "text/plain": [
       "Index(['City', 'Colors Reported', 'Shape Reported', 'State', 'Time'], dtype='object')"
      ]
     },
     "execution_count": 7,
     "metadata": {},
     "output_type": "execute_result"
    }
   ],
   "source": [
    "ufo.columns"
   ]
  },
  {
   "cell_type": "code",
   "execution_count": 8,
   "metadata": {
    "collapsed": false
   },
   "outputs": [],
   "source": [
    "ufo['Location'] = ufo['City'] + \", \" + ufo['State']\n"
   ]
  },
  {
   "cell_type": "code",
   "execution_count": null,
   "metadata": {
    "collapsed": true
   },
   "outputs": [],
   "source": []
  },
  {
   "cell_type": "code",
   "execution_count": 9,
   "metadata": {
    "collapsed": false
   },
   "outputs": [
    {
     "data": {
      "text/html": [
       "<div>\n",
       "<table border=\"1\" class=\"dataframe\">\n",
       "  <thead>\n",
       "    <tr style=\"text-align: right;\">\n",
       "      <th></th>\n",
       "      <th>City</th>\n",
       "      <th>Colors Reported</th>\n",
       "      <th>Shape Reported</th>\n",
       "      <th>State</th>\n",
       "      <th>Time</th>\n",
       "      <th>Location</th>\n",
       "    </tr>\n",
       "  </thead>\n",
       "  <tbody>\n",
       "    <tr>\n",
       "      <th>0</th>\n",
       "      <td>Ithaca</td>\n",
       "      <td>NaN</td>\n",
       "      <td>TRIANGLE</td>\n",
       "      <td>NY</td>\n",
       "      <td>6/1/1930 22:00</td>\n",
       "      <td>Ithaca, NY</td>\n",
       "    </tr>\n",
       "    <tr>\n",
       "      <th>1</th>\n",
       "      <td>Willingboro</td>\n",
       "      <td>NaN</td>\n",
       "      <td>OTHER</td>\n",
       "      <td>NJ</td>\n",
       "      <td>6/30/1930 20:00</td>\n",
       "      <td>Willingboro, NJ</td>\n",
       "    </tr>\n",
       "    <tr>\n",
       "      <th>2</th>\n",
       "      <td>Holyoke</td>\n",
       "      <td>NaN</td>\n",
       "      <td>OVAL</td>\n",
       "      <td>CO</td>\n",
       "      <td>2/15/1931 14:00</td>\n",
       "      <td>Holyoke, CO</td>\n",
       "    </tr>\n",
       "    <tr>\n",
       "      <th>3</th>\n",
       "      <td>Abilene</td>\n",
       "      <td>NaN</td>\n",
       "      <td>DISK</td>\n",
       "      <td>KS</td>\n",
       "      <td>6/1/1931 13:00</td>\n",
       "      <td>Abilene, KS</td>\n",
       "    </tr>\n",
       "    <tr>\n",
       "      <th>4</th>\n",
       "      <td>New York Worlds Fair</td>\n",
       "      <td>NaN</td>\n",
       "      <td>LIGHT</td>\n",
       "      <td>NY</td>\n",
       "      <td>4/18/1933 19:00</td>\n",
       "      <td>New York Worlds Fair, NY</td>\n",
       "    </tr>\n",
       "  </tbody>\n",
       "</table>\n",
       "</div>"
      ],
      "text/plain": [
       "                   City Colors Reported Shape Reported State             Time  \\\n",
       "0                Ithaca             NaN       TRIANGLE    NY   6/1/1930 22:00   \n",
       "1           Willingboro             NaN          OTHER    NJ  6/30/1930 20:00   \n",
       "2               Holyoke             NaN           OVAL    CO  2/15/1931 14:00   \n",
       "3               Abilene             NaN           DISK    KS   6/1/1931 13:00   \n",
       "4  New York Worlds Fair             NaN          LIGHT    NY  4/18/1933 19:00   \n",
       "\n",
       "                   Location  \n",
       "0                Ithaca, NY  \n",
       "1           Willingboro, NJ  \n",
       "2               Holyoke, CO  \n",
       "3               Abilene, KS  \n",
       "4  New York Worlds Fair, NY  "
      ]
     },
     "execution_count": 9,
     "metadata": {},
     "output_type": "execute_result"
    }
   ],
   "source": [
    "ufo.head()"
   ]
  },
  {
   "cell_type": "code",
   "execution_count": 10,
   "metadata": {
    "collapsed": false
   },
   "outputs": [
    {
     "data": {
      "text/plain": [
       "pandas.core.series.Series"
      ]
     },
     "execution_count": 10,
     "metadata": {},
     "output_type": "execute_result"
    }
   ],
   "source": [
    "type(ufo.Location)"
   ]
  },
  {
   "cell_type": "code",
   "execution_count": 11,
   "metadata": {
    "collapsed": false
   },
   "outputs": [
    {
     "name": "stdout",
     "output_type": "stream",
     "text": [
      "Location\n",
      "              Ithaca, NY\n",
      "         Willingboro, NJ\n",
      "             Holyoke, CO\n",
      "             Abilene, KS\n",
      "New York Worlds Fair, NY\n",
      "         Valley City, ND\n",
      "         Crater Lake, CA\n",
      "                Alma, MI\n",
      "             Eklutna, AK\n",
      "             Hubbard, OR\n"
     ]
    }
   ],
   "source": [
    "#ufo.Location\n",
    "print( (ufo.head(10)).to_string(columns=['Location'],index=False)) #bugger, this is tricky"
   ]
  },
  {
   "cell_type": "code",
   "execution_count": null,
   "metadata": {
    "collapsed": false
   },
   "outputs": [],
   "source": []
  },
  {
   "cell_type": "code",
   "execution_count": 12,
   "metadata": {
    "collapsed": false
   },
   "outputs": [
    {
     "name": "stdout",
     "output_type": "stream",
     "text": [
      "BEGIN A100_initialise_dataframe\n",
      "\n",
      "type(AAPL) : \n",
      " <class 'pandas.core.frame.DataFrame'>\n",
      "\n",
      "\n",
      "AAPL.dtypes : \n",
      " Airport_ID                 int64\n",
      "Name                      object\n",
      "City                      object\n",
      "Country                   object\n",
      "IATA_FAA                  object\n",
      "ICAO                      object\n",
      "Latitude                 float64\n",
      "Longitude                float64\n",
      "Altitude                   int64\n",
      "Timezone                 float64\n",
      "DST                       object\n",
      "Tz database_time_zone     object\n",
      "dtype: object\n",
      "\n",
      "\n",
      "AAPL.describe() : \n",
      "         Airport_ID     Latitude    Longitude      Altitude     Timezone\n",
      "count  8107.000000  8107.000000  8107.000000   8107.000000  8107.000000\n",
      "mean   4766.361046    26.817720    -3.921969    933.449365     0.169236\n",
      "std    2943.205193    27.866953    85.900873   1624.740899     5.737326\n",
      "min       1.000000   -89.999997  -179.877000  -1266.000000   -12.000000\n",
      "25%    2091.500000     8.824928   -79.022498     38.000000    -5.000000\n",
      "50%    4257.000000    34.987800     5.292028    272.000000     1.000000\n",
      "75%    7508.500000    47.957599    49.785821   1020.000000     4.000000\n",
      "max    9541.000000    82.517778   179.951000  14472.000000    13.000000\n",
      "\n",
      "\n",
      "<class 'pandas.core.frame.DataFrame'>\n",
      "RangeIndex: 8107 entries, 0 to 8106\n",
      "Data columns (total 12 columns):\n",
      "Airport_ID               8107 non-null int64\n",
      "Name                     8107 non-null object\n",
      "City                     8107 non-null object\n",
      "Country                  8107 non-null object\n",
      "IATA_FAA                 5880 non-null object\n",
      "ICAO                     8043 non-null object\n",
      "Latitude                 8107 non-null float64\n",
      "Longitude                8107 non-null float64\n",
      "Altitude                 8107 non-null int64\n",
      "Timezone                 8107 non-null float64\n",
      "DST                      8107 non-null object\n",
      "Tz database_time_zone    8107 non-null object\n",
      "dtypes: float64(3), int64(2), object(7)\n",
      "memory usage: 760.1+ KB\n",
      "AAPL.info() : \n",
      " None\n",
      "\n",
      "\n",
      "AAPL.head() : \n",
      "    Airport_ID                        Name          City           Country  \\\n",
      "0           1                      Goroka        Goroka  Papua New Guinea   \n",
      "1           2                      Madang        Madang  Papua New Guinea   \n",
      "2           3                 Mount Hagen   Mount Hagen  Papua New Guinea   \n",
      "3           4                      Nadzab        Nadzab  Papua New Guinea   \n",
      "4           5  Port Moresby Jacksons Intl  Port Moresby  Papua New Guinea   \n",
      "\n",
      "  IATA_FAA  ICAO  Latitude   Longitude  Altitude  Timezone DST  \\\n",
      "0      GKA  AYGA -6.081689  145.391881      5282      10.0   U   \n",
      "1      MAG  AYMD -5.207083  145.788700        20      10.0   U   \n",
      "2      HGU  AYMH -5.826789  144.295861      5388      10.0   U   \n",
      "3      LAE  AYNZ -6.569828  146.726242       239      10.0   U   \n",
      "4      POM  AYPY -9.443383  147.220050       146      10.0   U   \n",
      "\n",
      "  Tz database_time_zone  \n",
      "0  Pacific/Port_Moresby  \n",
      "1  Pacific/Port_Moresby  \n",
      "2  Pacific/Port_Moresby  \n",
      "3  Pacific/Port_Moresby  \n",
      "4  Pacific/Port_Moresby  \n",
      "\n",
      "\n",
      "display.max_columns =  20\n",
      "END A100_initialise_dataframe\n",
      "\n",
      "BEGIN A400_make_dataframes\n",
      "\n",
      "\n",
      "\n",
      "                Airport_ID                           Name    City IATA_FAA  \\\n",
      "Country                                                                      \n",
      "United Kingdom         492                          Luton  London      LTN   \n",
      "United Kingdom         502                        Gatwick  London      LGW   \n",
      "United Kingdom         503                           City  London      LCY   \n",
      "United Kingdom         507                       Heathrow  London      LHR   \n",
      "United Kingdom         548                       Stansted  London      STN   \n",
      "United Kingdom        7393  London Euston Railway Station  London      NaN   \n",
      "United Kingdom        7639             Paddington Station  London      QQP   \n",
      "United Kingdom        7667    London Victoria Bus Station  London      NaN   \n",
      "United Kingdom        7696              London St Pancras  London      STP   \n",
      "United Kingdom        7722                London Heliport  London      NaN   \n",
      "United Kingdom        8024     St Pancras Railway Station  London      QQS   \n",
      "United Kingdom        8590                   All Airports  London      LON   \n",
      "United Kingdom        8732           London - Kings Cross  London      QQK   \n",
      "United Kingdom        8912                 Euston Station  London      NaN   \n",
      "United Kingdom        8978               Victoria Station  London      NaN   \n",
      "United Kingdom        9341         Waterloo International  London      NaN   \n",
      "United Kingdom        9356                 Euston Station  London      QQU   \n",
      "United Kingdom        9357         Waterloo International  London      QQW   \n",
      "\n",
      "                ICAO   Latitude  Longitude  Altitude  Timezone DST  \\\n",
      "Country                                                              \n",
      "United Kingdom  EGGW  51.874722  -0.368333       526       0.0   E   \n",
      "United Kingdom  EGKK  51.148056  -0.190278       202       0.0   E   \n",
      "United Kingdom  EGLC  51.505278   0.055278        19       0.0   E   \n",
      "United Kingdom  EGLL  51.477500  -0.461389        83       0.0   E   \n",
      "United Kingdom  EGSS  51.885000   0.235000       348       0.0   E   \n",
      "United Kingdom    \\N  51.528400  -0.133100         0       0.0   U   \n",
      "United Kingdom    \\N  51.515833  -0.176111         0       0.0   E   \n",
      "United Kingdom    \\N  51.494999  -0.144643         0       0.0   E   \n",
      "United Kingdom    \\N  51.530000  -0.125000         0       0.0   E   \n",
      "United Kingdom  EGLW  51.470000  -0.177833        18       0.0   E   \n",
      "United Kingdom    \\N  51.532519  -0.126300        80       0.0   E   \n",
      "United Kingdom    \\N  51.508056  -0.127778        66       0.0   E   \n",
      "United Kingdom    \\N  51.532600   0.123300        72       0.0   E   \n",
      "United Kingdom    \\N  51.528400  -0.133100        89       0.0   E   \n",
      "United Kingdom    \\N  51.496400  -0.143910        48       0.0   E   \n",
      "United Kingdom    \\N  51.503100  -0.114700        10       0.0   E   \n",
      "United Kingdom    \\N  51.528400  -0.133100        89       0.0   E   \n",
      "United Kingdom    \\N  51.503100  -0.114700        10       0.0   E   \n",
      "\n",
      "               Tz database_time_zone  \n",
      "Country                               \n",
      "United Kingdom         Europe/London  \n",
      "United Kingdom         Europe/London  \n",
      "United Kingdom         Europe/London  \n",
      "United Kingdom         Europe/London  \n",
      "United Kingdom         Europe/London  \n",
      "United Kingdom         Europe/London  \n",
      "United Kingdom         Europe/London  \n",
      "United Kingdom         Europe/London  \n",
      "United Kingdom         Europe/London  \n",
      "United Kingdom         Europe/London  \n",
      "United Kingdom         Europe/London  \n",
      "United Kingdom         Europe/London  \n",
      "United Kingdom         Europe/London  \n",
      "United Kingdom         Europe/London  \n",
      "United Kingdom         Europe/London  \n",
      "United Kingdom         Europe/London  \n",
      "United Kingdom         Europe/London  \n",
      "United Kingdom         Europe/London  \n",
      "========================= \n",
      "\n",
      "<class 'list'>\n",
      "========================= \n",
      "\n",
      "========================= \n",
      "\n",
      "<class 'list'>\n",
      "<class 'list'>\n",
      "========================= \n",
      "\n",
      "\n",
      "\n",
      "END A400_make_dataframes\n",
      "\n",
      "\n",
      "\n",
      "END A500_Render_Gmap\n",
      "\n"
     ]
    }
   ],
   "source": [
    "def A100_initialise_dataframe(): \n",
    " print(\"BEGIN A100_initialise_dataframe\"+\"\\n\") \n",
    " \n",
    "#Location = r'C:\\Users\\bruce\\OneDrive\\Udacity_Intro_to_Data_Analysis\\airports.dat'\n",
    "#AAPL = pd.read_csv(Location,\n",
    " global AAPL\n",
    "\n",
    " AAPL = pd.read_csv( \n",
    "    \"https://raw.githubusercontent.com/jpatokal/openflights/master/data/airports.dat\",\n",
    " header=None,\n",
    " sep=',',    \n",
    " names = ['Airport_ID', 'Name', 'City', 'Country', 'IATA_FAA', 'ICAO', 'Latitude', 'Longitude', 'Altitude', 'Timezone','DST','Tz database_time_zone'],\n",
    " \n",
    " )\n",
    "\n",
    "#1,\"Goroka\",\"Goroka\",\"Papua New Guinea\",\"GKA\",\"AYGA\",-6.081689,145.391881,5282,10,\"U\",\"Pacific/Port_Moresby\"\n",
    "#507,\"Heathrow\",\"London\",\"United Kingdom\",\"LHR\",\"EGLL\",51.4775,-0.461389,83,0,\"E\",\"Europe/London\"\n",
    "#503,\"City\",\"London\",\"United Kingdom\",\"LCY\",\"EGLC\",51.505278,0.055278,19,0,\"E\",\"Europe/London\"\n",
    " print(\"type(AAPL) : \\n\", type(AAPL))\n",
    " print(\"\\n\")\n",
    " print(\"AAPL.dtypes : \\n\", AAPL.dtypes)\n",
    " print(\"\\n\")\n",
    " print(\"AAPL.describe() : \\n\", AAPL.describe())\n",
    " print(\"\\n\")\n",
    " print(\"AAPL.info() : \\n\", AAPL.info())\n",
    " print(\"\\n\")\n",
    " print(\"AAPL.head() : \\n\", AAPL.head())\n",
    " \n",
    " print(\"\\n\")\n",
    " print(\"display.max_columns = \", pd.get_option(\"display.max_columns\"))\n",
    "\n",
    "#print(AAPL.head(10)) \n",
    " print(\"END A100_initialise_dataframe\"+\"\\n\") \n",
    " return \n",
    "\n",
    "def A200_Method_I():\n",
    "# Method 1:\n",
    " print(\"BEGIN A200_Method_I\"+\"\\n\")    \n",
    " print(AAPL[AAPL['Altitude'] == AAPL['Altitude'].max()])\n",
    " print(\"\\n\")\n",
    " print(\"END A200_Method_I\"+\"\\n\")    \n",
    " return\n",
    "\n",
    "\n",
    "\n",
    "def A300_Method_II():\n",
    "# Method 2:\n",
    " print(\"BEGIN A300_Method_II\"+\"\\n\")    \n",
    " print(\"\\n\")\n",
    " Sorted = AAPL.sort_values(['Altitude'], ascending=False)\n",
    " print(Sorted.head(1))\n",
    " print(\"\\n\")\n",
    " print(AAPL['Altitude'].max())\n",
    " print(\"\\n\")\n",
    " print(\"END A300_Method_II\"+\"\\n\")    \n",
    " return\n",
    "\n",
    "\n",
    "\n",
    "def A400_make_dataframes():\n",
    " \n",
    " global BAPL\n",
    " global CAPL\n",
    " # Method 2:\n",
    " print(\"BEGIN A400_make_dataframes\"+\"\\n\")    \n",
    " print(\"\\n\")\n",
    " #print(AAPL[AAPL['City'] == \"Leicester\"]) \n",
    " #print(AAPL[AAPL['City'] == \"London\"])\n",
    " BAPL=AAPL[AAPL['City'] == \"London\"]\n",
    " #print(\"\\n\")\n",
    " #print(BAPL[['City','Country','Latitude','Longitude']])\n",
    " #print(\"\\n\")\n",
    "\n",
    " CAPL=BAPL[BAPL['Country'] == \"United Kingdom\"]\n",
    " #print(CAPL[['Name','City','Country','Latitude','Longitude']])\n",
    "\n",
    " CAPL.set_index('Country', inplace=True)\n",
    " print(CAPL.head(18))\n",
    "\n",
    " print(\"========================= \\n\")\n",
    " print(\n",
    "       type( \n",
    "            (CAPL.to_csv(columns=['Latitude'], sep=',', index=False)).split()\n",
    "           )   \n",
    "      )\n",
    " print(\"========================= \\n\")\n",
    " \n",
    " print(\"========================= \\n\")\n",
    " print(\n",
    "       type( \n",
    "            (CAPL.to_csv(columns=['Longitude'], sep=',', index=False)).split()\n",
    "           )   \n",
    "      )\n",
    " BW_lat=[51.477500, 51.148056]\n",
    " print(type(BW_lat))\n",
    "   \n",
    " print(\"========================= \\n\")\n",
    " print(\"\\n\")\n",
    "\n",
    " print(\"END A400_make_dataframes\"+\"\\n\")    \n",
    " return\n",
    "\n",
    "\n",
    "def A000_make_stuff():\n",
    "# Method 2:\n",
    " print(\"BEGIN A000_make_stuff\"+\"\\n\")    \n",
    " print(\"\\n\")\n",
    " \n",
    " print(\"\\n\")\n",
    " print(\"END A000_make_stuff\"+\"\\n\")    \n",
    " return\n",
    "\n",
    "\n",
    "\n",
    "def A500_Render_Gmap():\n",
    " #map_options = GMapOptions(lat=30.29, lng=-97.73, map_type=\"roadmap\", zoom=11)\n",
    " map_options = GMapOptions(lat=51.148056, lng=-0.190278,map_type=\"roadmap\", zoom=9)\n",
    " \n",
    " plot = GMapPlot(\n",
    "     x_range=DataRange1d(), y_range=DataRange1d(), map_options=map_options, title=\"London\"\n",
    " )\n",
    "  \n",
    " source = ColumnDataSource(\n",
    "     data=dict(\n",
    "        lat=(CAPL.to_csv(columns=['Latitude'], sep=',', index=False)).split(),\n",
    "        lon=(CAPL.to_csv(columns=['Longitude'], sep=',', index=False)).split(),\n",
    "#        lat=[51.477500, 51.148056],\n",
    "#        lon=[-0.461389, -0.190278],\n",
    "\n",
    "     )\n",
    " )\n",
    "# London Heathrow \n",
    "#lat=51.477500\n",
    "#lon=-0.461389\n",
    "\n",
    "#London Gatwick\n",
    "#Lat=51.148056\n",
    "#Lon=-0.190278\n",
    " circle = Circle(x=\"lon\", y=\"lat\", size=10, fill_color=\"purple\", fill_alpha=0.8, line_color=None)\n",
    " plot.add_glyph(source, circle)\n",
    " \n",
    " plot.add_tools(PanTool(), WheelZoomTool(), BoxSelectTool())\n",
    " output_file(\"gmap_plot.html\")\n",
    " show(plot)\n",
    " print(\"\\n\")\n",
    " print(\"END A500_Render_Gmap\"+\"\\n\")    \n",
    " return\n",
    "\n",
    "\n",
    "import pandas as pd \n",
    " \n",
    "from bokeh.plotting import figure \n",
    "from bokeh.io import output_file, show\n",
    "from bokeh.models import (\n",
    "  GMapPlot, GMapOptions, ColumnDataSource, Circle, DataRange1d, PanTool, WheelZoomTool, BoxSelectTool\n",
    ")\n",
    "\n",
    "\n",
    "\n",
    "A100_initialise_dataframe() \n",
    "\n",
    "#A200_Method_I()\n",
    "\n",
    "#A300_Method_II()\n",
    "\n",
    "A400_make_dataframes()\n",
    "\n",
    "A500_Render_Gmap()\n",
    "\n",
    "\n",
    "\n",
    "\n",
    "\n",
    "    \n",
    "\n"
   ]
  },
  {
   "cell_type": "code",
   "execution_count": 13,
   "metadata": {
    "collapsed": false
   },
   "outputs": [
    {
     "data": {
      "text/plain": [
       "Index(['United Kingdom', 'United Kingdom', 'United Kingdom', 'United Kingdom',\n",
       "       'United Kingdom', 'United Kingdom', 'United Kingdom', 'United Kingdom',\n",
       "       'United Kingdom', 'United Kingdom', 'United Kingdom', 'United Kingdom',\n",
       "       'United Kingdom', 'United Kingdom', 'United Kingdom', 'United Kingdom',\n",
       "       'United Kingdom', 'United Kingdom'],\n",
       "      dtype='object', name='Country')"
      ]
     },
     "execution_count": 13,
     "metadata": {},
     "output_type": "execute_result"
    }
   ],
   "source": [
    "CAPL.index"
   ]
  },
  {
   "cell_type": "code",
   "execution_count": null,
   "metadata": {
    "collapsed": true
   },
   "outputs": [],
   "source": []
  },
  {
   "cell_type": "code",
   "execution_count": 14,
   "metadata": {
    "collapsed": false,
    "scrolled": true
   },
   "outputs": [
    {
     "data": {
      "text/plain": [
       "(18, 11)"
      ]
     },
     "execution_count": 14,
     "metadata": {},
     "output_type": "execute_result"
    }
   ],
   "source": [
    "CAPL.shape\n"
   ]
  },
  {
   "cell_type": "code",
   "execution_count": 15,
   "metadata": {
    "collapsed": false
   },
   "outputs": [
    {
     "data": {
      "text/html": [
       "<div>\n",
       "<table border=\"1\" class=\"dataframe\">\n",
       "  <thead>\n",
       "    <tr style=\"text-align: right;\">\n",
       "      <th></th>\n",
       "      <th>Airport_ID</th>\n",
       "      <th>Name</th>\n",
       "      <th>City</th>\n",
       "      <th>IATA_FAA</th>\n",
       "      <th>ICAO</th>\n",
       "      <th>Latitude</th>\n",
       "      <th>Longitude</th>\n",
       "      <th>Altitude</th>\n",
       "      <th>Timezone</th>\n",
       "      <th>DST</th>\n",
       "      <th>Tz database_time_zone</th>\n",
       "    </tr>\n",
       "    <tr>\n",
       "      <th>Country</th>\n",
       "      <th></th>\n",
       "      <th></th>\n",
       "      <th></th>\n",
       "      <th></th>\n",
       "      <th></th>\n",
       "      <th></th>\n",
       "      <th></th>\n",
       "      <th></th>\n",
       "      <th></th>\n",
       "      <th></th>\n",
       "      <th></th>\n",
       "    </tr>\n",
       "  </thead>\n",
       "  <tbody>\n",
       "    <tr>\n",
       "      <th>United Kingdom</th>\n",
       "      <td>492</td>\n",
       "      <td>Luton</td>\n",
       "      <td>London</td>\n",
       "      <td>LTN</td>\n",
       "      <td>EGGW</td>\n",
       "      <td>51.874722</td>\n",
       "      <td>-0.368333</td>\n",
       "      <td>526</td>\n",
       "      <td>0.0</td>\n",
       "      <td>E</td>\n",
       "      <td>Europe/London</td>\n",
       "    </tr>\n",
       "    <tr>\n",
       "      <th>United Kingdom</th>\n",
       "      <td>502</td>\n",
       "      <td>Gatwick</td>\n",
       "      <td>London</td>\n",
       "      <td>LGW</td>\n",
       "      <td>EGKK</td>\n",
       "      <td>51.148056</td>\n",
       "      <td>-0.190278</td>\n",
       "      <td>202</td>\n",
       "      <td>0.0</td>\n",
       "      <td>E</td>\n",
       "      <td>Europe/London</td>\n",
       "    </tr>\n",
       "    <tr>\n",
       "      <th>United Kingdom</th>\n",
       "      <td>503</td>\n",
       "      <td>City</td>\n",
       "      <td>London</td>\n",
       "      <td>LCY</td>\n",
       "      <td>EGLC</td>\n",
       "      <td>51.505278</td>\n",
       "      <td>0.055278</td>\n",
       "      <td>19</td>\n",
       "      <td>0.0</td>\n",
       "      <td>E</td>\n",
       "      <td>Europe/London</td>\n",
       "    </tr>\n",
       "    <tr>\n",
       "      <th>United Kingdom</th>\n",
       "      <td>507</td>\n",
       "      <td>Heathrow</td>\n",
       "      <td>London</td>\n",
       "      <td>LHR</td>\n",
       "      <td>EGLL</td>\n",
       "      <td>51.477500</td>\n",
       "      <td>-0.461389</td>\n",
       "      <td>83</td>\n",
       "      <td>0.0</td>\n",
       "      <td>E</td>\n",
       "      <td>Europe/London</td>\n",
       "    </tr>\n",
       "    <tr>\n",
       "      <th>United Kingdom</th>\n",
       "      <td>548</td>\n",
       "      <td>Stansted</td>\n",
       "      <td>London</td>\n",
       "      <td>STN</td>\n",
       "      <td>EGSS</td>\n",
       "      <td>51.885000</td>\n",
       "      <td>0.235000</td>\n",
       "      <td>348</td>\n",
       "      <td>0.0</td>\n",
       "      <td>E</td>\n",
       "      <td>Europe/London</td>\n",
       "    </tr>\n",
       "  </tbody>\n",
       "</table>\n",
       "</div>"
      ],
      "text/plain": [
       "                Airport_ID      Name    City IATA_FAA  ICAO   Latitude  \\\n",
       "Country                                                                  \n",
       "United Kingdom         492     Luton  London      LTN  EGGW  51.874722   \n",
       "United Kingdom         502   Gatwick  London      LGW  EGKK  51.148056   \n",
       "United Kingdom         503      City  London      LCY  EGLC  51.505278   \n",
       "United Kingdom         507  Heathrow  London      LHR  EGLL  51.477500   \n",
       "United Kingdom         548  Stansted  London      STN  EGSS  51.885000   \n",
       "\n",
       "                Longitude  Altitude  Timezone DST Tz database_time_zone  \n",
       "Country                                                                  \n",
       "United Kingdom  -0.368333       526       0.0   E         Europe/London  \n",
       "United Kingdom  -0.190278       202       0.0   E         Europe/London  \n",
       "United Kingdom   0.055278        19       0.0   E         Europe/London  \n",
       "United Kingdom  -0.461389        83       0.0   E         Europe/London  \n",
       "United Kingdom   0.235000       348       0.0   E         Europe/London  "
      ]
     },
     "execution_count": 15,
     "metadata": {},
     "output_type": "execute_result"
    }
   ],
   "source": [
    "CAPL.head()"
   ]
  },
  {
   "cell_type": "code",
   "execution_count": 16,
   "metadata": {
    "collapsed": true
   },
   "outputs": [],
   "source": [
    "CAPL.set_index('Name', inplace=True)"
   ]
  },
  {
   "cell_type": "code",
   "execution_count": 17,
   "metadata": {
    "collapsed": false
   },
   "outputs": [
    {
     "data": {
      "text/plain": [
       "Index(['Luton', 'Gatwick', 'City', 'Heathrow', 'Stansted',\n",
       "       'London Euston Railway Station', 'Paddington Station',\n",
       "       'London Victoria Bus Station', 'London St Pancras', 'London Heliport',\n",
       "       'St Pancras Railway Station', 'All Airports', 'London - Kings Cross',\n",
       "       'Euston Station', 'Victoria Station', 'Waterloo International',\n",
       "       'Euston Station', 'Waterloo International'],\n",
       "      dtype='object', name='Name')"
      ]
     },
     "execution_count": 17,
     "metadata": {},
     "output_type": "execute_result"
    }
   ],
   "source": [
    "CAPL.index"
   ]
  },
  {
   "cell_type": "code",
   "execution_count": 18,
   "metadata": {
    "collapsed": false
   },
   "outputs": [
    {
     "data": {
      "text/plain": [
       "Index(['Airport_ID', 'City', 'IATA_FAA', 'ICAO', 'Latitude', 'Longitude',\n",
       "       'Altitude', 'Timezone', 'DST', 'Tz database_time_zone'],\n",
       "      dtype='object')"
      ]
     },
     "execution_count": 18,
     "metadata": {},
     "output_type": "execute_result"
    }
   ],
   "source": [
    "CAPL.columns"
   ]
  },
  {
   "cell_type": "code",
   "execution_count": 19,
   "metadata": {
    "collapsed": false
   },
   "outputs": [
    {
     "data": {
      "text/html": [
       "<div>\n",
       "<table border=\"1\" class=\"dataframe\">\n",
       "  <thead>\n",
       "    <tr style=\"text-align: right;\">\n",
       "      <th></th>\n",
       "      <th>Airport_ID</th>\n",
       "      <th>City</th>\n",
       "      <th>IATA_FAA</th>\n",
       "      <th>ICAO</th>\n",
       "      <th>Latitude</th>\n",
       "      <th>Longitude</th>\n",
       "      <th>Altitude</th>\n",
       "      <th>Timezone</th>\n",
       "      <th>DST</th>\n",
       "      <th>Tz database_time_zone</th>\n",
       "    </tr>\n",
       "    <tr>\n",
       "      <th>Name</th>\n",
       "      <th></th>\n",
       "      <th></th>\n",
       "      <th></th>\n",
       "      <th></th>\n",
       "      <th></th>\n",
       "      <th></th>\n",
       "      <th></th>\n",
       "      <th></th>\n",
       "      <th></th>\n",
       "      <th></th>\n",
       "    </tr>\n",
       "  </thead>\n",
       "  <tbody>\n",
       "    <tr>\n",
       "      <th>Luton</th>\n",
       "      <td>492</td>\n",
       "      <td>London</td>\n",
       "      <td>LTN</td>\n",
       "      <td>EGGW</td>\n",
       "      <td>51.874722</td>\n",
       "      <td>-0.368333</td>\n",
       "      <td>526</td>\n",
       "      <td>0.0</td>\n",
       "      <td>E</td>\n",
       "      <td>Europe/London</td>\n",
       "    </tr>\n",
       "    <tr>\n",
       "      <th>Gatwick</th>\n",
       "      <td>502</td>\n",
       "      <td>London</td>\n",
       "      <td>LGW</td>\n",
       "      <td>EGKK</td>\n",
       "      <td>51.148056</td>\n",
       "      <td>-0.190278</td>\n",
       "      <td>202</td>\n",
       "      <td>0.0</td>\n",
       "      <td>E</td>\n",
       "      <td>Europe/London</td>\n",
       "    </tr>\n",
       "    <tr>\n",
       "      <th>City</th>\n",
       "      <td>503</td>\n",
       "      <td>London</td>\n",
       "      <td>LCY</td>\n",
       "      <td>EGLC</td>\n",
       "      <td>51.505278</td>\n",
       "      <td>0.055278</td>\n",
       "      <td>19</td>\n",
       "      <td>0.0</td>\n",
       "      <td>E</td>\n",
       "      <td>Europe/London</td>\n",
       "    </tr>\n",
       "    <tr>\n",
       "      <th>Heathrow</th>\n",
       "      <td>507</td>\n",
       "      <td>London</td>\n",
       "      <td>LHR</td>\n",
       "      <td>EGLL</td>\n",
       "      <td>51.477500</td>\n",
       "      <td>-0.461389</td>\n",
       "      <td>83</td>\n",
       "      <td>0.0</td>\n",
       "      <td>E</td>\n",
       "      <td>Europe/London</td>\n",
       "    </tr>\n",
       "    <tr>\n",
       "      <th>Stansted</th>\n",
       "      <td>548</td>\n",
       "      <td>London</td>\n",
       "      <td>STN</td>\n",
       "      <td>EGSS</td>\n",
       "      <td>51.885000</td>\n",
       "      <td>0.235000</td>\n",
       "      <td>348</td>\n",
       "      <td>0.0</td>\n",
       "      <td>E</td>\n",
       "      <td>Europe/London</td>\n",
       "    </tr>\n",
       "    <tr>\n",
       "      <th>London Euston Railway Station</th>\n",
       "      <td>7393</td>\n",
       "      <td>London</td>\n",
       "      <td>NaN</td>\n",
       "      <td>\\N</td>\n",
       "      <td>51.528400</td>\n",
       "      <td>-0.133100</td>\n",
       "      <td>0</td>\n",
       "      <td>0.0</td>\n",
       "      <td>U</td>\n",
       "      <td>Europe/London</td>\n",
       "    </tr>\n",
       "    <tr>\n",
       "      <th>Paddington Station</th>\n",
       "      <td>7639</td>\n",
       "      <td>London</td>\n",
       "      <td>QQP</td>\n",
       "      <td>\\N</td>\n",
       "      <td>51.515833</td>\n",
       "      <td>-0.176111</td>\n",
       "      <td>0</td>\n",
       "      <td>0.0</td>\n",
       "      <td>E</td>\n",
       "      <td>Europe/London</td>\n",
       "    </tr>\n",
       "    <tr>\n",
       "      <th>London Victoria Bus Station</th>\n",
       "      <td>7667</td>\n",
       "      <td>London</td>\n",
       "      <td>NaN</td>\n",
       "      <td>\\N</td>\n",
       "      <td>51.494999</td>\n",
       "      <td>-0.144643</td>\n",
       "      <td>0</td>\n",
       "      <td>0.0</td>\n",
       "      <td>E</td>\n",
       "      <td>Europe/London</td>\n",
       "    </tr>\n",
       "    <tr>\n",
       "      <th>London St Pancras</th>\n",
       "      <td>7696</td>\n",
       "      <td>London</td>\n",
       "      <td>STP</td>\n",
       "      <td>\\N</td>\n",
       "      <td>51.530000</td>\n",
       "      <td>-0.125000</td>\n",
       "      <td>0</td>\n",
       "      <td>0.0</td>\n",
       "      <td>E</td>\n",
       "      <td>Europe/London</td>\n",
       "    </tr>\n",
       "    <tr>\n",
       "      <th>London Heliport</th>\n",
       "      <td>7722</td>\n",
       "      <td>London</td>\n",
       "      <td>NaN</td>\n",
       "      <td>EGLW</td>\n",
       "      <td>51.470000</td>\n",
       "      <td>-0.177833</td>\n",
       "      <td>18</td>\n",
       "      <td>0.0</td>\n",
       "      <td>E</td>\n",
       "      <td>Europe/London</td>\n",
       "    </tr>\n",
       "    <tr>\n",
       "      <th>St Pancras Railway Station</th>\n",
       "      <td>8024</td>\n",
       "      <td>London</td>\n",
       "      <td>QQS</td>\n",
       "      <td>\\N</td>\n",
       "      <td>51.532519</td>\n",
       "      <td>-0.126300</td>\n",
       "      <td>80</td>\n",
       "      <td>0.0</td>\n",
       "      <td>E</td>\n",
       "      <td>Europe/London</td>\n",
       "    </tr>\n",
       "    <tr>\n",
       "      <th>All Airports</th>\n",
       "      <td>8590</td>\n",
       "      <td>London</td>\n",
       "      <td>LON</td>\n",
       "      <td>\\N</td>\n",
       "      <td>51.508056</td>\n",
       "      <td>-0.127778</td>\n",
       "      <td>66</td>\n",
       "      <td>0.0</td>\n",
       "      <td>E</td>\n",
       "      <td>Europe/London</td>\n",
       "    </tr>\n",
       "    <tr>\n",
       "      <th>London - Kings Cross</th>\n",
       "      <td>8732</td>\n",
       "      <td>London</td>\n",
       "      <td>QQK</td>\n",
       "      <td>\\N</td>\n",
       "      <td>51.532600</td>\n",
       "      <td>0.123300</td>\n",
       "      <td>72</td>\n",
       "      <td>0.0</td>\n",
       "      <td>E</td>\n",
       "      <td>Europe/London</td>\n",
       "    </tr>\n",
       "    <tr>\n",
       "      <th>Euston Station</th>\n",
       "      <td>8912</td>\n",
       "      <td>London</td>\n",
       "      <td>NaN</td>\n",
       "      <td>\\N</td>\n",
       "      <td>51.528400</td>\n",
       "      <td>-0.133100</td>\n",
       "      <td>89</td>\n",
       "      <td>0.0</td>\n",
       "      <td>E</td>\n",
       "      <td>Europe/London</td>\n",
       "    </tr>\n",
       "    <tr>\n",
       "      <th>Victoria Station</th>\n",
       "      <td>8978</td>\n",
       "      <td>London</td>\n",
       "      <td>NaN</td>\n",
       "      <td>\\N</td>\n",
       "      <td>51.496400</td>\n",
       "      <td>-0.143910</td>\n",
       "      <td>48</td>\n",
       "      <td>0.0</td>\n",
       "      <td>E</td>\n",
       "      <td>Europe/London</td>\n",
       "    </tr>\n",
       "    <tr>\n",
       "      <th>Waterloo International</th>\n",
       "      <td>9341</td>\n",
       "      <td>London</td>\n",
       "      <td>NaN</td>\n",
       "      <td>\\N</td>\n",
       "      <td>51.503100</td>\n",
       "      <td>-0.114700</td>\n",
       "      <td>10</td>\n",
       "      <td>0.0</td>\n",
       "      <td>E</td>\n",
       "      <td>Europe/London</td>\n",
       "    </tr>\n",
       "    <tr>\n",
       "      <th>Euston Station</th>\n",
       "      <td>9356</td>\n",
       "      <td>London</td>\n",
       "      <td>QQU</td>\n",
       "      <td>\\N</td>\n",
       "      <td>51.528400</td>\n",
       "      <td>-0.133100</td>\n",
       "      <td>89</td>\n",
       "      <td>0.0</td>\n",
       "      <td>E</td>\n",
       "      <td>Europe/London</td>\n",
       "    </tr>\n",
       "    <tr>\n",
       "      <th>Waterloo International</th>\n",
       "      <td>9357</td>\n",
       "      <td>London</td>\n",
       "      <td>QQW</td>\n",
       "      <td>\\N</td>\n",
       "      <td>51.503100</td>\n",
       "      <td>-0.114700</td>\n",
       "      <td>10</td>\n",
       "      <td>0.0</td>\n",
       "      <td>E</td>\n",
       "      <td>Europe/London</td>\n",
       "    </tr>\n",
       "  </tbody>\n",
       "</table>\n",
       "</div>"
      ],
      "text/plain": [
       "                               Airport_ID    City IATA_FAA  ICAO   Latitude  \\\n",
       "Name                                                                          \n",
       "Luton                                 492  London      LTN  EGGW  51.874722   \n",
       "Gatwick                               502  London      LGW  EGKK  51.148056   \n",
       "City                                  503  London      LCY  EGLC  51.505278   \n",
       "Heathrow                              507  London      LHR  EGLL  51.477500   \n",
       "Stansted                              548  London      STN  EGSS  51.885000   \n",
       "London Euston Railway Station        7393  London      NaN    \\N  51.528400   \n",
       "Paddington Station                   7639  London      QQP    \\N  51.515833   \n",
       "London Victoria Bus Station          7667  London      NaN    \\N  51.494999   \n",
       "London St Pancras                    7696  London      STP    \\N  51.530000   \n",
       "London Heliport                      7722  London      NaN  EGLW  51.470000   \n",
       "St Pancras Railway Station           8024  London      QQS    \\N  51.532519   \n",
       "All Airports                         8590  London      LON    \\N  51.508056   \n",
       "London - Kings Cross                 8732  London      QQK    \\N  51.532600   \n",
       "Euston Station                       8912  London      NaN    \\N  51.528400   \n",
       "Victoria Station                     8978  London      NaN    \\N  51.496400   \n",
       "Waterloo International               9341  London      NaN    \\N  51.503100   \n",
       "Euston Station                       9356  London      QQU    \\N  51.528400   \n",
       "Waterloo International               9357  London      QQW    \\N  51.503100   \n",
       "\n",
       "                               Longitude  Altitude  Timezone DST  \\\n",
       "Name                                                               \n",
       "Luton                          -0.368333       526       0.0   E   \n",
       "Gatwick                        -0.190278       202       0.0   E   \n",
       "City                            0.055278        19       0.0   E   \n",
       "Heathrow                       -0.461389        83       0.0   E   \n",
       "Stansted                        0.235000       348       0.0   E   \n",
       "London Euston Railway Station  -0.133100         0       0.0   U   \n",
       "Paddington Station             -0.176111         0       0.0   E   \n",
       "London Victoria Bus Station    -0.144643         0       0.0   E   \n",
       "London St Pancras              -0.125000         0       0.0   E   \n",
       "London Heliport                -0.177833        18       0.0   E   \n",
       "St Pancras Railway Station     -0.126300        80       0.0   E   \n",
       "All Airports                   -0.127778        66       0.0   E   \n",
       "London - Kings Cross            0.123300        72       0.0   E   \n",
       "Euston Station                 -0.133100        89       0.0   E   \n",
       "Victoria Station               -0.143910        48       0.0   E   \n",
       "Waterloo International         -0.114700        10       0.0   E   \n",
       "Euston Station                 -0.133100        89       0.0   E   \n",
       "Waterloo International         -0.114700        10       0.0   E   \n",
       "\n",
       "                              Tz database_time_zone  \n",
       "Name                                                 \n",
       "Luton                                 Europe/London  \n",
       "Gatwick                               Europe/London  \n",
       "City                                  Europe/London  \n",
       "Heathrow                              Europe/London  \n",
       "Stansted                              Europe/London  \n",
       "London Euston Railway Station         Europe/London  \n",
       "Paddington Station                    Europe/London  \n",
       "London Victoria Bus Station           Europe/London  \n",
       "London St Pancras                     Europe/London  \n",
       "London Heliport                       Europe/London  \n",
       "St Pancras Railway Station            Europe/London  \n",
       "All Airports                          Europe/London  \n",
       "London - Kings Cross                  Europe/London  \n",
       "Euston Station                        Europe/London  \n",
       "Victoria Station                      Europe/London  \n",
       "Waterloo International                Europe/London  \n",
       "Euston Station                        Europe/London  \n",
       "Waterloo International                Europe/London  "
      ]
     },
     "execution_count": 19,
     "metadata": {},
     "output_type": "execute_result"
    }
   ],
   "source": [
    "CAPL.head(100)"
   ]
  },
  {
   "cell_type": "code",
   "execution_count": 20,
   "metadata": {
    "collapsed": false
   },
   "outputs": [
    {
     "data": {
      "text/plain": [
       "51.508055999999996"
      ]
     },
     "execution_count": 20,
     "metadata": {},
     "output_type": "execute_result"
    }
   ],
   "source": [
    "CAPL.loc['All Airports', 'Latitude']"
   ]
  },
  {
   "cell_type": "code",
   "execution_count": 21,
   "metadata": {
    "collapsed": true
   },
   "outputs": [],
   "source": [
    "import pandas as pd"
   ]
  },
  {
   "cell_type": "code",
   "execution_count": 22,
   "metadata": {
    "collapsed": false
   },
   "outputs": [],
   "source": [
    "orders=pd.read_table('http://bit.ly/chiporders')"
   ]
  },
  {
   "cell_type": "code",
   "execution_count": 23,
   "metadata": {
    "collapsed": false
   },
   "outputs": [
    {
     "data": {
      "text/html": [
       "<div>\n",
       "<table border=\"1\" class=\"dataframe\">\n",
       "  <thead>\n",
       "    <tr style=\"text-align: right;\">\n",
       "      <th></th>\n",
       "      <th>order_id</th>\n",
       "      <th>quantity</th>\n",
       "      <th>item_name</th>\n",
       "      <th>choice_description</th>\n",
       "      <th>item_price</th>\n",
       "    </tr>\n",
       "  </thead>\n",
       "  <tbody>\n",
       "    <tr>\n",
       "      <th>0</th>\n",
       "      <td>1</td>\n",
       "      <td>1</td>\n",
       "      <td>Chips and Fresh Tomato Salsa</td>\n",
       "      <td>NaN</td>\n",
       "      <td>$2.39</td>\n",
       "    </tr>\n",
       "    <tr>\n",
       "      <th>1</th>\n",
       "      <td>1</td>\n",
       "      <td>1</td>\n",
       "      <td>Izze</td>\n",
       "      <td>[Clementine]</td>\n",
       "      <td>$3.39</td>\n",
       "    </tr>\n",
       "    <tr>\n",
       "      <th>2</th>\n",
       "      <td>1</td>\n",
       "      <td>1</td>\n",
       "      <td>Nantucket Nectar</td>\n",
       "      <td>[Apple]</td>\n",
       "      <td>$3.39</td>\n",
       "    </tr>\n",
       "    <tr>\n",
       "      <th>3</th>\n",
       "      <td>1</td>\n",
       "      <td>1</td>\n",
       "      <td>Chips and Tomatillo-Green Chili Salsa</td>\n",
       "      <td>NaN</td>\n",
       "      <td>$2.39</td>\n",
       "    </tr>\n",
       "    <tr>\n",
       "      <th>4</th>\n",
       "      <td>2</td>\n",
       "      <td>2</td>\n",
       "      <td>Chicken Bowl</td>\n",
       "      <td>[Tomatillo-Red Chili Salsa (Hot), [Black Beans...</td>\n",
       "      <td>$16.98</td>\n",
       "    </tr>\n",
       "    <tr>\n",
       "      <th>5</th>\n",
       "      <td>3</td>\n",
       "      <td>1</td>\n",
       "      <td>Chicken Bowl</td>\n",
       "      <td>[Fresh Tomato Salsa (Mild), [Rice, Cheese, Sou...</td>\n",
       "      <td>$10.98</td>\n",
       "    </tr>\n",
       "    <tr>\n",
       "      <th>6</th>\n",
       "      <td>3</td>\n",
       "      <td>1</td>\n",
       "      <td>Side of Chips</td>\n",
       "      <td>NaN</td>\n",
       "      <td>$1.69</td>\n",
       "    </tr>\n",
       "    <tr>\n",
       "      <th>7</th>\n",
       "      <td>4</td>\n",
       "      <td>1</td>\n",
       "      <td>Steak Burrito</td>\n",
       "      <td>[Tomatillo Red Chili Salsa, [Fajita Vegetables...</td>\n",
       "      <td>$11.75</td>\n",
       "    </tr>\n",
       "    <tr>\n",
       "      <th>8</th>\n",
       "      <td>4</td>\n",
       "      <td>1</td>\n",
       "      <td>Steak Soft Tacos</td>\n",
       "      <td>[Tomatillo Green Chili Salsa, [Pinto Beans, Ch...</td>\n",
       "      <td>$9.25</td>\n",
       "    </tr>\n",
       "    <tr>\n",
       "      <th>9</th>\n",
       "      <td>5</td>\n",
       "      <td>1</td>\n",
       "      <td>Steak Burrito</td>\n",
       "      <td>[Fresh Tomato Salsa, [Rice, Black Beans, Pinto...</td>\n",
       "      <td>$9.25</td>\n",
       "    </tr>\n",
       "  </tbody>\n",
       "</table>\n",
       "</div>"
      ],
      "text/plain": [
       "   order_id  quantity                              item_name  \\\n",
       "0         1         1           Chips and Fresh Tomato Salsa   \n",
       "1         1         1                                   Izze   \n",
       "2         1         1                       Nantucket Nectar   \n",
       "3         1         1  Chips and Tomatillo-Green Chili Salsa   \n",
       "4         2         2                           Chicken Bowl   \n",
       "5         3         1                           Chicken Bowl   \n",
       "6         3         1                          Side of Chips   \n",
       "7         4         1                          Steak Burrito   \n",
       "8         4         1                       Steak Soft Tacos   \n",
       "9         5         1                          Steak Burrito   \n",
       "\n",
       "                                  choice_description item_price  \n",
       "0                                                NaN     $2.39   \n",
       "1                                       [Clementine]     $3.39   \n",
       "2                                            [Apple]     $3.39   \n",
       "3                                                NaN     $2.39   \n",
       "4  [Tomatillo-Red Chili Salsa (Hot), [Black Beans...    $16.98   \n",
       "5  [Fresh Tomato Salsa (Mild), [Rice, Cheese, Sou...    $10.98   \n",
       "6                                                NaN     $1.69   \n",
       "7  [Tomatillo Red Chili Salsa, [Fajita Vegetables...    $11.75   \n",
       "8  [Tomatillo Green Chili Salsa, [Pinto Beans, Ch...     $9.25   \n",
       "9  [Fresh Tomato Salsa, [Rice, Black Beans, Pinto...     $9.25   "
      ]
     },
     "execution_count": 23,
     "metadata": {},
     "output_type": "execute_result"
    }
   ],
   "source": [
    "orders.head(10)"
   ]
  },
  {
   "cell_type": "code",
   "execution_count": 24,
   "metadata": {
    "collapsed": false
   },
   "outputs": [
    {
     "data": {
      "text/plain": [
       "(4622, 5)"
      ]
     },
     "execution_count": 24,
     "metadata": {},
     "output_type": "execute_result"
    }
   ],
   "source": [
    "orders.shape"
   ]
  },
  {
   "cell_type": "code",
   "execution_count": null,
   "metadata": {
    "collapsed": false
   },
   "outputs": [],
   "source": []
  },
  {
   "cell_type": "code",
   "execution_count": null,
   "metadata": {
    "collapsed": true
   },
   "outputs": [],
   "source": []
  },
  {
   "cell_type": "code",
   "execution_count": null,
   "metadata": {
    "collapsed": true
   },
   "outputs": [],
   "source": []
  },
  {
   "cell_type": "code",
   "execution_count": null,
   "metadata": {
    "collapsed": true
   },
   "outputs": [],
   "source": []
  }
 ],
 "metadata": {
  "kernelspec": {
   "display_name": "Python 3",
   "language": "python",
   "name": "python3"
  },
  "language_info": {
   "codemirror_mode": {
    "name": "ipython",
    "version": 3
   },
   "file_extension": ".py",
   "mimetype": "text/x-python",
   "name": "python",
   "nbconvert_exporter": "python",
   "pygments_lexer": "ipython3",
   "version": "3.5.1"
  }
 },
 "nbformat": 4,
 "nbformat_minor": 0
}
